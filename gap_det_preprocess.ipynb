{
  "nbformat": 4,
  "nbformat_minor": 0,
  "metadata": {
    "colab": {
      "provenance": []
    },
    "kernelspec": {
      "name": "python3",
      "display_name": "Python 3"
    },
    "language_info": {
      "name": "python"
    }
  },
  "cells": [
    {
      "cell_type": "code",
      "execution_count": null,
      "metadata": {
        "colab": {
          "base_uri": "https://localhost:8080/"
        },
        "id": "sKPkJ6FUg-qY",
        "outputId": "df153508-9173-4f36-d069-4a6c4c4f3d68"
      },
      "outputs": [
        {
          "output_type": "stream",
          "name": "stdout",
          "text": [
            "Requirement already satisfied: albumentations in /usr/local/lib/python3.10/dist-packages (1.4.20)\n",
            "Requirement already satisfied: opencv-python in /usr/local/lib/python3.10/dist-packages (4.10.0.84)\n",
            "Requirement already satisfied: numpy in /usr/local/lib/python3.10/dist-packages (1.26.4)\n",
            "Requirement already satisfied: scipy>=1.10.0 in /usr/local/lib/python3.10/dist-packages (from albumentations) (1.13.1)\n",
            "Requirement already satisfied: PyYAML in /usr/local/lib/python3.10/dist-packages (from albumentations) (6.0.2)\n",
            "Requirement already satisfied: pydantic>=2.7.0 in /usr/local/lib/python3.10/dist-packages (from albumentations) (2.10.3)\n",
            "Requirement already satisfied: albucore==0.0.19 in /usr/local/lib/python3.10/dist-packages (from albumentations) (0.0.19)\n",
            "Requirement already satisfied: eval-type-backport in /usr/local/lib/python3.10/dist-packages (from albumentations) (0.2.0)\n",
            "Requirement already satisfied: opencv-python-headless>=4.9.0.80 in /usr/local/lib/python3.10/dist-packages (from albumentations) (4.10.0.84)\n",
            "Requirement already satisfied: stringzilla>=3.10.4 in /usr/local/lib/python3.10/dist-packages (from albucore==0.0.19->albumentations) (3.11.1)\n",
            "Requirement already satisfied: annotated-types>=0.6.0 in /usr/local/lib/python3.10/dist-packages (from pydantic>=2.7.0->albumentations) (0.7.0)\n",
            "Requirement already satisfied: pydantic-core==2.27.1 in /usr/local/lib/python3.10/dist-packages (from pydantic>=2.7.0->albumentations) (2.27.1)\n",
            "Requirement already satisfied: typing-extensions>=4.12.2 in /usr/local/lib/python3.10/dist-packages (from pydantic>=2.7.0->albumentations) (4.12.2)\n"
          ]
        }
      ],
      "source": [
        "!pip install albumentations opencv-python numpy"
      ]
    },
    {
      "cell_type": "code",
      "source": [
        "import os\n",
        "import cv2\n",
        "import random\n",
        "import numpy as np\n",
        "from albumentations import (\n",
        "    HorizontalFlip, Rotate, ShiftScaleRotate, RandomBrightnessContrast,\n",
        "    Perspective, ColorJitter, Compose, BboxParams\n",
        ")\n",
        "from albumentations.core.composition import OneOf\n",
        "\n",
        "# Define Paths\n",
        "base_dir = \"/content/drive/MyDrive/your_dataset_folder\"  # Update with your dataset folder\n",
        "output_dir = \"/content/drive/MyDrive/augmented_dataset\"  # Update with your output folder\n",
        "folders = [\"train\", \"test\", \"valid\"]\n",
        "\n",
        "if not os.path.exists(output_dir):\n",
        "    os.makedirs(output_dir)\n",
        "\n",
        "# Parameters\n",
        "target_image_count = 1000\n",
        "augmentations_per_image = 20\n",
        "\n",
        "# Augmentation Pipeline\n",
        "def get_augmentation_pipeline():\n",
        "    return Compose(\n",
        "        [\n",
        "            OneOf([\n",
        "                Rotate(limit=20, p=1.0),\n",
        "                ShiftScaleRotate(shift_limit=0.02, scale_limit=0.2, rotate_limit=20, p=1.0),\n",
        "                Perspective(scale=(0.02, 0.06), p=1.0),\n",
        "            ], p=0.8),\n",
        "            RandomBrightnessContrast(brightness_limit=0.2, contrast_limit=0.2, p=0.5),\n",
        "            ColorJitter(hue=0.2, saturation=0.2, brightness=0.2, contrast=0.2, p=0.5),\n",
        "        ],\n",
        "        bbox_params=BboxParams(format=\"yolo\", label_fields=[\"class_labels\"]),\n",
        "    )\n",
        "\n",
        "# Read Labels\n",
        "def read_labels(label_path):\n",
        "    with open(label_path, \"r\") as f:\n",
        "        lines = f.readlines()\n",
        "    bboxes = []\n",
        "    class_labels = []\n",
        "    for line in lines:\n",
        "        values = line.strip().split()\n",
        "        class_id = int(values[0])\n",
        "        bbox = list(map(float, values[1:]))\n",
        "        bboxes.append(bbox)\n",
        "        class_labels.append(class_id)\n",
        "    return bboxes, class_labels\n",
        "\n",
        "# Write Labels\n",
        "def write_labels(label_path, bboxes, class_labels):\n",
        "    with open(label_path, \"w\") as f:\n",
        "        for class_id, bbox in zip(class_labels, bboxes):\n",
        "            f.write(f\"{class_id} {' '.join(map(str, bbox))}\\n\")\n",
        "\n",
        "# Augment Dataset\n",
        "def augment_dataset(base_dir, output_dir, target_image_count, augmentations_per_image):\n",
        "    pipeline = get_augmentation_pipeline()\n",
        "\n",
        "    for folder in folders:  # Process train, test, and valid\n",
        "        print(f\"Processing folder: {folder}\")\n",
        "\n",
        "        input_image_dir = os.path.join(base_dir, folder, \"images\")\n",
        "        input_label_dir = os.path.join(base_dir, folder, \"labels\")\n",
        "        output_image_dir = os.path.join(output_dir, folder, \"images\")\n",
        "        output_label_dir = os.path.join(output_dir, folder, \"labels\")\n",
        "\n",
        "        # Create output directories if they do not exist\n",
        "        os.makedirs(output_image_dir, exist_ok=True)\n",
        "        os.makedirs(output_label_dir, exist_ok=True)\n",
        "\n",
        "        # List all images in the current folder\n",
        "        images = [f for f in os.listdir(input_image_dir) if f.endswith((\".jpg\", \".png\"))]\n",
        "        num_images = len(images)\n",
        "        generated_count = 0\n",
        "\n",
        "        for image_name in images:\n",
        "            image_path = os.path.join(input_image_dir, image_name)\n",
        "            label_path = os.path.join(input_label_dir, image_name.replace(\".jpg\", \".txt\").replace(\".png\", \".txt\"))\n",
        "\n",
        "            # Load the image and corresponding labels\n",
        "            img = cv2.imread(image_path)\n",
        "            bboxes, class_labels = read_labels(label_path)\n",
        "\n",
        "            for i in range(augmentations_per_image):\n",
        "                augmented = pipeline(image=img, bboxes=bboxes, class_labels=class_labels)\n",
        "                aug_img = augmented[\"image\"]\n",
        "                aug_bboxes = augmented[\"bboxes\"]\n",
        "                aug_class_labels = augmented[\"class_labels\"]\n",
        "\n",
        "                # Save augmented image\n",
        "                aug_image_name = f\"{os.path.splitext(image_name)[0]}_aug_{i + generated_count}.jpg\"\n",
        "                aug_image_path = os.path.join(output_image_dir, aug_image_name)\n",
        "                cv2.imwrite(aug_image_path, aug_img)\n",
        "\n",
        "                # Save updated labels\n",
        "                aug_label_name = f\"{os.path.splitext(image_name)[0]}_aug_{i + generated_count}.txt\"\n",
        "                aug_label_path = os.path.join(output_label_dir, aug_label_name)\n",
        "                write_labels(aug_label_path, aug_bboxes, aug_class_labels)\n",
        "\n",
        "                generated_count += 1\n",
        "\n",
        "                # Stop augmentation if the target count is reached\n",
        "                if generated_count >= target_image_count - num_images:\n",
        "                    break\n",
        "\n",
        "        print(f\"Completed folder: {folder}, Total Augmented: {generated_count} images.\")\n",
        "\n",
        "# Run Augmentation\n",
        "augment_dataset(base_dir, output_dir, target_image_count, augmentations_per_image)\n"
      ],
      "metadata": {
        "id": "YpKXMAHehSkR"
      },
      "execution_count": null,
      "outputs": []
    },
    {
      "cell_type": "code",
      "source": [],
      "metadata": {
        "id": "FsyyhZBVjtOl"
      },
      "execution_count": null,
      "outputs": []
    }
  ]
}